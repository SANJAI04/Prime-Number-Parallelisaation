{
  "nbformat": 4,
  "nbformat_minor": 0,
  "metadata": {
    "colab": {
      "provenance": [],
      "gpuType": "T4"
    },
    "kernelspec": {
      "name": "python3",
      "display_name": "Python 3"
    },
    "language_info": {
      "name": "python"
    },
    "accelerator": "GPU"
  },
  "cells": [
    {
      "cell_type": "code",
      "execution_count": 3,
      "metadata": {
        "colab": {
          "base_uri": "https://localhost:8080/"
        },
        "id": "iSE26rkr3NWa",
        "outputId": "15553161-7e8d-49e8-f1e4-35096f7d53ee"
      },
      "outputs": [
        {
          "output_type": "stream",
          "name": "stdout",
          "text": [
            "Collecting nvcc4jupyter\n",
            "  Downloading nvcc4jupyter-1.2.1-py3-none-any.whl (10 kB)\n",
            "Installing collected packages: nvcc4jupyter\n",
            "Successfully installed nvcc4jupyter-1.2.1\n"
          ]
        }
      ],
      "source": [
        "!pip install nvcc4jupyter"
      ]
    },
    {
      "cell_type": "code",
      "source": [
        "%load_ext nvcc4jupyter"
      ],
      "metadata": {
        "colab": {
          "base_uri": "https://localhost:8080/"
        },
        "id": "p7DPE6rZ3QRR",
        "outputId": "8a5ae95b-c209-4c7d-cd8f-d638ebc67b9e"
      },
      "execution_count": 4,
      "outputs": [
        {
          "output_type": "stream",
          "name": "stdout",
          "text": [
            "Detected platform \"Colab\". Running its setup...\n",
            "Source files will be saved in \"/tmp/tmp0pzqxekr\".\n"
          ]
        }
      ]
    },
    {
      "cell_type": "code",
      "source": [
        "%%time\n",
        "%%cuda\n",
        "#include <iostream>\n",
        "#include <vector>\n",
        "#include<sstream>\n",
        "void sieve(int N){\n",
        "    bool isPrime[N+1];\n",
        "    for (int i=0;i<=N;++i){\n",
        "        isPrime[i]=true;\n",
        "    }\n",
        "    isPrime[0]= false;\n",
        "    isPrime[1]=false;\n",
        "    for(int i=2;i*i<=N;++i){\n",
        "        if(isPrime[i]==true){\n",
        "            for(int j=i*i;j<=N;j+=i)\n",
        "              isPrime[j]=false;\n",
        "        }\n",
        "    }\n",
        "    //std::cout << \"Prime numbers within the interval [1, \" << N << \"] are:\" << std::endl;\n",
        "    //for (int p = 2; p <= N; ++p) {\n",
        "       // if (isPrime[p])\n",
        "            // std::cout << p << \" \";\n",
        "    // }\n",
        " }\n",
        "\n",
        "int main() {\n",
        "    int n=10000;\n",
        "    std::cin >> n;\n",
        "    sieve(n);\n",
        "    return 0;\n",
        "}"
      ],
      "metadata": {
        "colab": {
          "base_uri": "https://localhost:8080/"
        },
        "id": "0kfdr9-U3VLY",
        "outputId": "52166fb4-ae11-4122-dc4d-ed3e23f601e8"
      },
      "execution_count": 49,
      "outputs": [
        {
          "output_type": "stream",
          "name": "stdout",
          "text": [
            "\n",
            "CPU times: user 11.5 ms, sys: 785 µs, total: 12.3 ms\n",
            "Wall time: 1.96 s\n"
          ]
        }
      ]
    },
    {
      "cell_type": "code",
      "source": [
        "%%time\n",
        "%%cuda\n",
        "#include <iostream>\n",
        "#include <vector>\n",
        "#include<sstream>\n",
        "__global__ void sieve(bool *isPrime, int N) {\n",
        "    int i = blockIdx.x * blockDim.x + threadIdx.x + 2;\n",
        "    if (i <= N && isPrime[i]) {\n",
        "        for (int j = i * i; j <= N; j += i) {\n",
        "            isPrime[j] = false;\n",
        "        }\n",
        "    }\n",
        "}\n",
        "\n",
        "void printPrimes(bool *isPrime, int N) {\n",
        "    std::cout << \"Prime numbers within the interval [1, \" << N << \"] are:\" << std::endl;\n",
        "    for (int p = 2; p <= N; ++p) {\n",
        "        if (isPrime[p])\n",
        "            std::cout << p << \" \";\n",
        "    }\n",
        "}\n",
        "\n",
        "void sieve_CUDA(int N) {\n",
        "    bool *isPrime;\n",
        "    cudaMallocManaged(&isPrime, (N + 1) * sizeof(bool));\n",
        "\n",
        "    for (int i = 0; i <= N; ++i) {\n",
        "        isPrime[i] = true;\n",
        "    }\n",
        "    isPrime[0] = false;\n",
        "    isPrime[1] = false;\n",
        "\n",
        "    int threadsPerBlock = 256;\n",
        "    int blocksPerGrid = (N + threadsPerBlock - 1) / threadsPerBlock;\n",
        "\n",
        "    sieve<<<blocksPerGrid, threadsPerBlock>>>(isPrime, N);\n",
        "    cudaDeviceSynchronize();\n",
        "\n",
        "    // printPrimes(isPrime, N);\n",
        "\n",
        "    cudaFree(isPrime);\n",
        "}\n",
        "\n",
        "int main() {\n",
        "    int n = 10000;\n",
        "    std::cin >> n;\n",
        "    sieve_CUDA(n);\n",
        "    return 0;\n",
        "}\n",
        "\n"
      ],
      "metadata": {
        "colab": {
          "base_uri": "https://localhost:8080/"
        },
        "id": "yRNubqEr3Ypm",
        "outputId": "5b476d93-7a14-4526-bf5b-1cb069ff405b"
      },
      "execution_count": 48,
      "outputs": [
        {
          "output_type": "stream",
          "name": "stdout",
          "text": [
            "\n",
            "CPU times: user 9 ms, sys: 4.65 ms, total: 13.6 ms\n",
            "Wall time: 2.48 s\n"
          ]
        }
      ]
    },
    {
      "cell_type": "code",
      "source": [
        "import matplotlib.pyplot as plt\n",
        "\n",
        "def plot_graph(x1, y1, x2, y2):\n",
        "    plt.plot(x1, y1, label='Line 1')\n",
        "    plt.plot(x2, y2, label='Line 2')\n",
        "    plt.xlabel('X Axis')\n",
        "    plt.ylabel('Y Axis')\n",
        "    plt.title('Graph')\n",
        "    plt.legend()\n",
        "    plt.grid(True)\n",
        "    plt.show()\n",
        "\n",
        "def get_points(line_num):\n",
        "    points = []\n",
        "    for i in range(6):\n",
        "        x = float(input(f\"Enter x-coordinate for Point {i+1} of Line {line_num}: \"))\n",
        "        y = float(input(f\"Enter y-coordinate for Point {i+1} of Line {line_num}: \"))\n",
        "        points.append((x, y))\n",
        "    return zip(*points)\n",
        "\n",
        "def main():\n",
        "    x1, y1 = get_points(1)\n",
        "    x2, y2 = get_points(2)\n",
        "    plot_graph(x1, y1, x2, y2)\n",
        "\n",
        "if __name__ == \"__main__\":\n",
        "    main()\n"
      ],
      "metadata": {
        "colab": {
          "base_uri": "https://localhost:8080/",
          "height": 889
        },
        "id": "mBGBXIf45n8_",
        "outputId": "24c102cb-095a-476d-e902-0ffd504aa30c"
      },
      "execution_count": 52,
      "outputs": [
        {
          "name": "stdout",
          "output_type": "stream",
          "text": [
            "Enter x-coordinate for Point 1 of Line 1: 4\n",
            "Enter y-coordinate for Point 1 of Line 1: 1.96\n",
            "Enter x-coordinate for Point 2 of Line 1: 5\n",
            "Enter y-coordinate for Point 2 of Line 1: 1.95\n",
            "Enter x-coordinate for Point 3 of Line 1: 6\n",
            "Enter y-coordinate for Point 3 of Line 1: 2.47\n",
            "Enter x-coordinate for Point 4 of Line 1: 7\n",
            "Enter y-coordinate for Point 4 of Line 1: 2.38\n",
            "Enter x-coordinate for Point 5 of Line 1: 8\n",
            "Enter y-coordinate for Point 5 of Line 1: 1.81\n",
            "Enter x-coordinate for Point 6 of Line 1: 9\n",
            "Enter y-coordinate for Point 6 of Line 1: 2.03\n",
            "Enter x-coordinate for Point 1 of Line 2: 4\n",
            "Enter y-coordinate for Point 1 of Line 2: 2.48\n",
            "Enter x-coordinate for Point 2 of Line 2: 5\n",
            "Enter y-coordinate for Point 2 of Line 2: 2.02\n",
            "Enter x-coordinate for Point 3 of Line 2: 6\n",
            "Enter y-coordinate for Point 3 of Line 2: 2.42\n",
            "Enter x-coordinate for Point 4 of Line 2: 7\n",
            "Enter y-coordinate for Point 4 of Line 2: 2.57\n",
            "Enter x-coordinate for Point 5 of Line 2: 8\n",
            "Enter y-coordinate for Point 5 of Line 2: 2.27\n",
            "Enter x-coordinate for Point 6 of Line 2: 9\n",
            "Enter y-coordinate for Point 6 of Line 2: 4.8\n"
          ]
        },
        {
          "output_type": "display_data",
          "data": {
            "text/plain": [
              "<Figure size 640x480 with 1 Axes>"
            ],
            "image/png": "[encoded data removed]"
          },
          "metadata": {}
        }
      ]
    },
    {
      "cell_type": "code",
      "source": [],
      "metadata": {
        "id": "52CnFy3yYxSN"
      },
      "execution_count": null,
      "outputs": []
    }
  ]
}